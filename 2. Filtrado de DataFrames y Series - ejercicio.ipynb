{
 "cells": [
  {
   "cell_type": "markdown",
   "metadata": {},
   "source": [
    "# Ejercicio - Busqueda de Alojamiento en Airbnb.\n",
    "\n",
    "Supongamos que somos un agente de [Airbnb](http://www.airbnb.com) localizado en Lisboa, y tenemos que atender peticiones de varios clientes. Tenemos un archivo llamado `airbnb.csv` (en la carpeta data) donde tenemos información de todos los alojamientos de Airbnb en Lisboa."
   ]
  },
  {
   "cell_type": "code",
   "execution_count": 1,
   "metadata": {},
   "outputs": [],
   "source": [
    "import pandas as pd\n",
    "df_airbnb = pd.read_csv(\"./src/pandas/airbnb.csv\")"
   ]
  },
  {
   "cell_type": "code",
   "execution_count": 2,
   "metadata": {},
   "outputs": [
    {
     "data": {
      "text/html": [
       "<div>\n",
       "<style scoped>\n",
       "    .dataframe tbody tr th:only-of-type {\n",
       "        vertical-align: middle;\n",
       "    }\n",
       "\n",
       "    .dataframe tbody tr th {\n",
       "        vertical-align: top;\n",
       "    }\n",
       "\n",
       "    .dataframe thead th {\n",
       "        text-align: right;\n",
       "    }\n",
       "</style>\n",
       "<table border=\"1\" class=\"dataframe\">\n",
       "  <thead>\n",
       "    <tr style=\"text-align: right;\">\n",
       "      <th></th>\n",
       "      <th>room_id</th>\n",
       "      <th>host_id</th>\n",
       "      <th>room_type</th>\n",
       "      <th>neighborhood</th>\n",
       "      <th>reviews</th>\n",
       "      <th>overall_satisfaction</th>\n",
       "      <th>accommodates</th>\n",
       "      <th>bedrooms</th>\n",
       "      <th>price</th>\n",
       "    </tr>\n",
       "  </thead>\n",
       "  <tbody>\n",
       "    <tr>\n",
       "      <th>0</th>\n",
       "      <td>6499</td>\n",
       "      <td>14455</td>\n",
       "      <td>Entire home/apt</td>\n",
       "      <td>Belém</td>\n",
       "      <td>8</td>\n",
       "      <td>5.0</td>\n",
       "      <td>2</td>\n",
       "      <td>1.0</td>\n",
       "      <td>57.0</td>\n",
       "    </tr>\n",
       "    <tr>\n",
       "      <th>1</th>\n",
       "      <td>17031</td>\n",
       "      <td>66015</td>\n",
       "      <td>Entire home/apt</td>\n",
       "      <td>Alvalade</td>\n",
       "      <td>0</td>\n",
       "      <td>0.0</td>\n",
       "      <td>2</td>\n",
       "      <td>1.0</td>\n",
       "      <td>46.0</td>\n",
       "    </tr>\n",
       "    <tr>\n",
       "      <th>2</th>\n",
       "      <td>25659</td>\n",
       "      <td>107347</td>\n",
       "      <td>Entire home/apt</td>\n",
       "      <td>Santa Maria Maior</td>\n",
       "      <td>63</td>\n",
       "      <td>5.0</td>\n",
       "      <td>3</td>\n",
       "      <td>1.0</td>\n",
       "      <td>69.0</td>\n",
       "    </tr>\n",
       "    <tr>\n",
       "      <th>3</th>\n",
       "      <td>29248</td>\n",
       "      <td>125768</td>\n",
       "      <td>Entire home/apt</td>\n",
       "      <td>Santa Maria Maior</td>\n",
       "      <td>225</td>\n",
       "      <td>4.5</td>\n",
       "      <td>4</td>\n",
       "      <td>1.0</td>\n",
       "      <td>58.0</td>\n",
       "    </tr>\n",
       "    <tr>\n",
       "      <th>4</th>\n",
       "      <td>29396</td>\n",
       "      <td>126415</td>\n",
       "      <td>Entire home/apt</td>\n",
       "      <td>Santa Maria Maior</td>\n",
       "      <td>132</td>\n",
       "      <td>5.0</td>\n",
       "      <td>4</td>\n",
       "      <td>1.0</td>\n",
       "      <td>67.0</td>\n",
       "    </tr>\n",
       "  </tbody>\n",
       "</table>\n",
       "</div>"
      ],
      "text/plain": [
       "   room_id  host_id        room_type       neighborhood  reviews  \\\n",
       "0     6499    14455  Entire home/apt              Belém        8   \n",
       "1    17031    66015  Entire home/apt           Alvalade        0   \n",
       "2    25659   107347  Entire home/apt  Santa Maria Maior       63   \n",
       "3    29248   125768  Entire home/apt  Santa Maria Maior      225   \n",
       "4    29396   126415  Entire home/apt  Santa Maria Maior      132   \n",
       "\n",
       "   overall_satisfaction  accommodates  bedrooms  price  \n",
       "0                   5.0             2       1.0   57.0  \n",
       "1                   0.0             2       1.0   46.0  \n",
       "2                   5.0             3       1.0   69.0  \n",
       "3                   4.5             4       1.0   58.0  \n",
       "4                   5.0             4       1.0   67.0  "
      ]
     },
     "execution_count": 2,
     "metadata": {},
     "output_type": "execute_result"
    }
   ],
   "source": [
    "df_airbnb.head()"
   ]
  },
  {
   "cell_type": "code",
   "execution_count": 3,
   "metadata": {},
   "outputs": [
    {
     "data": {
      "text/plain": [
       "room_id                   int64\n",
       "host_id                   int64\n",
       "room_type                object\n",
       "neighborhood             object\n",
       "reviews                   int64\n",
       "overall_satisfaction    float64\n",
       "accommodates              int64\n",
       "bedrooms                float64\n",
       "price                   float64\n",
       "dtype: object"
      ]
     },
     "execution_count": 3,
     "metadata": {},
     "output_type": "execute_result"
    }
   ],
   "source": [
    "df_airbnb.dtypes"
   ]
  },
  {
   "cell_type": "markdown",
   "metadata": {},
   "source": [
    "En concreto el dataset tiene las siguientes variables:\n",
    "- room_id: el identificador de la propiedad\n",
    "- host_id: el identificador del dueño de la propiedad\n",
    "- room_type: tipo de propiedad (vivienda completa/(habitacion para compartir/habitación privada)\n",
    "- neighborhood: el barrio de Lisboa\n",
    "- reviews: El numero de opiniones\n",
    "- overall_satisfaction: Puntuacion media del apartamento\n",
    "- accommodates: El numero de personas que se pueden alojar en la propiedad\n",
    "- bedrooms: El número de habitaciones\n",
    "- price: El precio (en euros) por noche"
   ]
  },
  {
   "cell_type": "markdown",
   "metadata": {},
   "source": [
    "## Usando Pandas"
   ]
  },
  {
   "cell_type": "markdown",
   "metadata": {},
   "source": [
    "### Caso 1.\n",
    "\n",
    "Alicia va a ir a Lisboa durante una semana con su marido y sus 2 hijos. Están buscando un apartamento con habitaciones separadas para los padres y los hijos. No les importa donde alojarse o el precio, simplemente quieren tener una experiencia agradable. Esto significa que solo aceptan lugares con más de 10 críticas con una puntuación mayor de 4. Cuando seleccionemos habitaciones para Alicia, tenemos que asegurarnos de ordenar las habitaciones de mejor a peor puntuación. Para aquellas habitaciones que tienen la misma puntuación, debemos mostrar antes aquellas con más críticas. Debemos darle 3 alternativas."
   ]
  },
  {
   "cell_type": "code",
   "execution_count": 4,
   "metadata": {},
   "outputs": [],
   "source": [
    "condicion=(df_airbnb[\"reviews\"] > 10) & (df_airbnb[\"overall_satisfaction\"] > 4) & (df_airbnb[\"room_type\"]==\"Entire home/apt\") & (df_airbnb[\"accommodates\"]==4) & (df_airbnb[\"bedrooms\"]>1)"
   ]
  },
  {
   "cell_type": "code",
   "execution_count": 5,
   "metadata": {},
   "outputs": [
    {
     "data": {
      "text/html": [
       "<div>\n",
       "<style scoped>\n",
       "    .dataframe tbody tr th:only-of-type {\n",
       "        vertical-align: middle;\n",
       "    }\n",
       "\n",
       "    .dataframe tbody tr th {\n",
       "        vertical-align: top;\n",
       "    }\n",
       "\n",
       "    .dataframe thead th {\n",
       "        text-align: right;\n",
       "    }\n",
       "</style>\n",
       "<table border=\"1\" class=\"dataframe\">\n",
       "  <thead>\n",
       "    <tr style=\"text-align: right;\">\n",
       "      <th></th>\n",
       "      <th>room_id</th>\n",
       "      <th>host_id</th>\n",
       "      <th>room_type</th>\n",
       "      <th>neighborhood</th>\n",
       "      <th>reviews</th>\n",
       "      <th>overall_satisfaction</th>\n",
       "      <th>accommodates</th>\n",
       "      <th>bedrooms</th>\n",
       "      <th>price</th>\n",
       "    </tr>\n",
       "  </thead>\n",
       "  <tbody>\n",
       "    <tr>\n",
       "      <th>120</th>\n",
       "      <td>176153</td>\n",
       "      <td>842219</td>\n",
       "      <td>Entire home/apt</td>\n",
       "      <td>Misericórdia</td>\n",
       "      <td>438</td>\n",
       "      <td>5.0</td>\n",
       "      <td>4</td>\n",
       "      <td>2.0</td>\n",
       "      <td>102.0</td>\n",
       "    </tr>\n",
       "    <tr>\n",
       "      <th>140</th>\n",
       "      <td>202150</td>\n",
       "      <td>989393</td>\n",
       "      <td>Entire home/apt</td>\n",
       "      <td>Santa Maria Maior</td>\n",
       "      <td>274</td>\n",
       "      <td>5.0</td>\n",
       "      <td>4</td>\n",
       "      <td>2.0</td>\n",
       "      <td>62.0</td>\n",
       "    </tr>\n",
       "    <tr>\n",
       "      <th>388</th>\n",
       "      <td>496195</td>\n",
       "      <td>647439</td>\n",
       "      <td>Entire home/apt</td>\n",
       "      <td>Santa Maria Maior</td>\n",
       "      <td>259</td>\n",
       "      <td>5.0</td>\n",
       "      <td>4</td>\n",
       "      <td>2.0</td>\n",
       "      <td>52.0</td>\n",
       "    </tr>\n",
       "  </tbody>\n",
       "</table>\n",
       "</div>"
      ],
      "text/plain": [
       "     room_id  host_id        room_type       neighborhood  reviews  \\\n",
       "120   176153   842219  Entire home/apt       Misericórdia      438   \n",
       "140   202150   989393  Entire home/apt  Santa Maria Maior      274   \n",
       "388   496195   647439  Entire home/apt  Santa Maria Maior      259   \n",
       "\n",
       "     overall_satisfaction  accommodates  bedrooms  price  \n",
       "120                   5.0             4       2.0  102.0  \n",
       "140                   5.0             4       2.0   62.0  \n",
       "388                   5.0             4       2.0   52.0  "
      ]
     },
     "execution_count": 5,
     "metadata": {},
     "output_type": "execute_result"
    }
   ],
   "source": [
    "df_orden = df_airbnb[condicion].sort_values(by=[\"overall_satisfaction\",\"reviews\"],ascending=[False,False])\n",
    "df_orden.head(3)"
   ]
  },
  {
   "cell_type": "markdown",
   "metadata": {},
   "source": [
    "### Caso 2\n",
    "\n",
    "Roberto es un casero que tiene una casa en Airbnb. De vez en cuando nos llama preguntando sobre cuales son las críticas de su alojamiento. Hoy está particularmente enfadado, ya que su hermana Clara ha puesto una casa en Airbnb y Roberto quiere asegurarse de que su casa tiene más críticas que las de Clara. Tenemos que crear un dataframe con las propiedades de ambos. Las id de las casas de Roberto y Clara son 97503 y 90387  respectivamente. Finalmente guardamos este dataframe como excel llamado \"roberto.xls"
   ]
  },
  {
   "cell_type": "code",
   "execution_count": 6,
   "metadata": {},
   "outputs": [],
   "source": [
    "import os"
   ]
  },
  {
   "cell_type": "code",
   "execution_count": 7,
   "metadata": {},
   "outputs": [],
   "source": [
    "def propietario(ID):\n",
    "    if ID == 97503:\n",
    "        return \"Roberto\"\n",
    "    elif ID == 90387:\n",
    "        return \"Clara\"\n",
    "    else:\n",
    "        return \"\""
   ]
  },
  {
   "cell_type": "code",
   "execution_count": 8,
   "metadata": {},
   "outputs": [],
   "source": [
    "df_airbnb['Propietario'] = df_airbnb.room_id.apply(propietario)"
   ]
  },
  {
   "cell_type": "code",
   "execution_count": 9,
   "metadata": {},
   "outputs": [
    {
     "data": {
      "text/html": [
       "<div>\n",
       "<style scoped>\n",
       "    .dataframe tbody tr th:only-of-type {\n",
       "        vertical-align: middle;\n",
       "    }\n",
       "\n",
       "    .dataframe tbody tr th {\n",
       "        vertical-align: top;\n",
       "    }\n",
       "\n",
       "    .dataframe thead th {\n",
       "        text-align: right;\n",
       "    }\n",
       "</style>\n",
       "<table border=\"1\" class=\"dataframe\">\n",
       "  <thead>\n",
       "    <tr style=\"text-align: right;\">\n",
       "      <th></th>\n",
       "      <th>host_id</th>\n",
       "      <th>room_type</th>\n",
       "      <th>neighborhood</th>\n",
       "      <th>reviews</th>\n",
       "      <th>overall_satisfaction</th>\n",
       "      <th>accommodates</th>\n",
       "      <th>bedrooms</th>\n",
       "      <th>price</th>\n",
       "      <th>Propietario</th>\n",
       "    </tr>\n",
       "    <tr>\n",
       "      <th>room_id</th>\n",
       "      <th></th>\n",
       "      <th></th>\n",
       "      <th></th>\n",
       "      <th></th>\n",
       "      <th></th>\n",
       "      <th></th>\n",
       "      <th></th>\n",
       "      <th></th>\n",
       "      <th></th>\n",
       "    </tr>\n",
       "  </thead>\n",
       "  <tbody>\n",
       "    <tr>\n",
       "      <th>97503</th>\n",
       "      <td>515924</td>\n",
       "      <td>Private room</td>\n",
       "      <td>Santo António</td>\n",
       "      <td>39</td>\n",
       "      <td>4.0</td>\n",
       "      <td>2</td>\n",
       "      <td>1.0</td>\n",
       "      <td>26.0</td>\n",
       "      <td>Roberto</td>\n",
       "    </tr>\n",
       "    <tr>\n",
       "      <th>90387</th>\n",
       "      <td>490050</td>\n",
       "      <td>Private room</td>\n",
       "      <td>Santo António</td>\n",
       "      <td>204</td>\n",
       "      <td>5.0</td>\n",
       "      <td>2</td>\n",
       "      <td>1.0</td>\n",
       "      <td>46.0</td>\n",
       "      <td>Clara</td>\n",
       "    </tr>\n",
       "  </tbody>\n",
       "</table>\n",
       "</div>"
      ],
      "text/plain": [
       "         host_id     room_type   neighborhood  reviews  overall_satisfaction  \\\n",
       "room_id                                                                        \n",
       "97503     515924  Private room  Santo António       39                   4.0   \n",
       "90387     490050  Private room  Santo António      204                   5.0   \n",
       "\n",
       "         accommodates  bedrooms  price Propietario  \n",
       "room_id                                             \n",
       "97503               2       1.0   26.0     Roberto  \n",
       "90387               2       1.0   46.0       Clara  "
      ]
     },
     "execution_count": 9,
     "metadata": {},
     "output_type": "execute_result"
    }
   ],
   "source": [
    "df2 = df_airbnb.set_index(\"room_id\").copy()\n",
    "df3 = df2.loc[[97503,90387]]\n",
    "df3.head()"
   ]
  },
  {
   "cell_type": "code",
   "execution_count": 10,
   "metadata": {},
   "outputs": [
    {
     "data": {
      "text/plain": [
       "['output', 'pandas']"
      ]
     },
     "execution_count": 10,
     "metadata": {},
     "output_type": "execute_result"
    }
   ],
   "source": [
    "os.listdir('./src')"
   ]
  },
  {
   "cell_type": "code",
   "execution_count": 11,
   "metadata": {},
   "outputs": [],
   "source": [
    "if not os.path.isdir('./src/output'):\n",
    "    os.mkdir('./src/output')"
   ]
  },
  {
   "cell_type": "code",
   "execution_count": 12,
   "metadata": {},
   "outputs": [],
   "source": [
    "path = './src/output/roberto.xlsx'\n",
    "df3.to_excel(path, sheet_name=\"ComparaciónReviews\", index=True, encoding=\"utf-8\")"
   ]
  },
  {
   "cell_type": "markdown",
   "metadata": {},
   "source": [
    "\n",
    "### Caso 3\n",
    "\n",
    "Diana va a Lisboa a pasar 3 noches y quiere conocer a gente nueva. Tiene un presupuesto de 50€ para su alojamiento. Debemos buscarle las 10 propiedades más baratas, dandole preferencia a aquellas que sean habitaciones compartidas *(room_type == Shared room)*, y para aquellas viviendas compartidas debemos elegir aquellas con mejor puntuación."
   ]
  },
  {
   "cell_type": "code",
   "execution_count": 13,
   "metadata": {
    "tags": []
   },
   "outputs": [
    {
     "data": {
      "text/plain": [
       "array(['Entire home/apt', 'Private room', 'Shared room'], dtype=object)"
      ]
     },
     "execution_count": 13,
     "metadata": {},
     "output_type": "execute_result"
    }
   ],
   "source": [
    "df_airbnb.room_type.unique()"
   ]
  },
  {
   "cell_type": "code",
   "execution_count": 14,
   "metadata": {},
   "outputs": [],
   "source": [
    "condi=(df_airbnb[\"price\"] <= 50/3)&(df_airbnb.room_type == \"Shared room\")&(df_airbnb.accommodates > 1)\n",
    "df_orden2 = df_airbnb[condi].sort_values(by=[\"overall_satisfaction\",\"price\"],ascending=[False,True])"
   ]
  },
  {
   "cell_type": "code",
   "execution_count": 15,
   "metadata": {},
   "outputs": [
    {
     "data": {
      "text/html": [
       "<div>\n",
       "<style scoped>\n",
       "    .dataframe tbody tr th:only-of-type {\n",
       "        vertical-align: middle;\n",
       "    }\n",
       "\n",
       "    .dataframe tbody tr th {\n",
       "        vertical-align: top;\n",
       "    }\n",
       "\n",
       "    .dataframe thead th {\n",
       "        text-align: right;\n",
       "    }\n",
       "</style>\n",
       "<table border=\"1\" class=\"dataframe\">\n",
       "  <thead>\n",
       "    <tr style=\"text-align: right;\">\n",
       "      <th></th>\n",
       "      <th>room_id</th>\n",
       "      <th>host_id</th>\n",
       "      <th>room_type</th>\n",
       "      <th>neighborhood</th>\n",
       "      <th>reviews</th>\n",
       "      <th>overall_satisfaction</th>\n",
       "      <th>accommodates</th>\n",
       "      <th>bedrooms</th>\n",
       "      <th>price</th>\n",
       "      <th>Propietario</th>\n",
       "    </tr>\n",
       "  </thead>\n",
       "  <tbody>\n",
       "    <tr>\n",
       "      <th>9065</th>\n",
       "      <td>14933182</td>\n",
       "      <td>91501272</td>\n",
       "      <td>Shared room</td>\n",
       "      <td>Santo António</td>\n",
       "      <td>5</td>\n",
       "      <td>5.0</td>\n",
       "      <td>8</td>\n",
       "      <td>1.0</td>\n",
       "      <td>11.0</td>\n",
       "      <td></td>\n",
       "    </tr>\n",
       "    <tr>\n",
       "      <th>6056</th>\n",
       "      <td>10397682</td>\n",
       "      <td>32344156</td>\n",
       "      <td>Shared room</td>\n",
       "      <td>Misericórdia</td>\n",
       "      <td>15</td>\n",
       "      <td>5.0</td>\n",
       "      <td>8</td>\n",
       "      <td>1.0</td>\n",
       "      <td>13.0</td>\n",
       "      <td></td>\n",
       "    </tr>\n",
       "    <tr>\n",
       "      <th>8918</th>\n",
       "      <td>14719962</td>\n",
       "      <td>40574313</td>\n",
       "      <td>Shared room</td>\n",
       "      <td>Avenidas Novas</td>\n",
       "      <td>4</td>\n",
       "      <td>5.0</td>\n",
       "      <td>4</td>\n",
       "      <td>1.0</td>\n",
       "      <td>13.0</td>\n",
       "      <td></td>\n",
       "    </tr>\n",
       "    <tr>\n",
       "      <th>9964</th>\n",
       "      <td>16150682</td>\n",
       "      <td>58899339</td>\n",
       "      <td>Shared room</td>\n",
       "      <td>Avenidas Novas</td>\n",
       "      <td>4</td>\n",
       "      <td>5.0</td>\n",
       "      <td>9</td>\n",
       "      <td>1.0</td>\n",
       "      <td>16.0</td>\n",
       "      <td></td>\n",
       "    </tr>\n",
       "    <tr>\n",
       "      <th>5616</th>\n",
       "      <td>9317561</td>\n",
       "      <td>48360716</td>\n",
       "      <td>Shared room</td>\n",
       "      <td>Arroios</td>\n",
       "      <td>13</td>\n",
       "      <td>4.5</td>\n",
       "      <td>4</td>\n",
       "      <td>1.0</td>\n",
       "      <td>11.0</td>\n",
       "      <td></td>\n",
       "    </tr>\n",
       "    <tr>\n",
       "      <th>8908</th>\n",
       "      <td>14708916</td>\n",
       "      <td>91501272</td>\n",
       "      <td>Shared room</td>\n",
       "      <td>Santo António</td>\n",
       "      <td>18</td>\n",
       "      <td>4.5</td>\n",
       "      <td>4</td>\n",
       "      <td>1.0</td>\n",
       "      <td>11.0</td>\n",
       "      <td></td>\n",
       "    </tr>\n",
       "    <tr>\n",
       "      <th>9061</th>\n",
       "      <td>14932515</td>\n",
       "      <td>91501272</td>\n",
       "      <td>Shared room</td>\n",
       "      <td>Santo António</td>\n",
       "      <td>9</td>\n",
       "      <td>4.5</td>\n",
       "      <td>4</td>\n",
       "      <td>1.0</td>\n",
       "      <td>11.0</td>\n",
       "      <td></td>\n",
       "    </tr>\n",
       "    <tr>\n",
       "      <th>9062</th>\n",
       "      <td>14932518</td>\n",
       "      <td>91501272</td>\n",
       "      <td>Shared room</td>\n",
       "      <td>Santo António</td>\n",
       "      <td>7</td>\n",
       "      <td>4.5</td>\n",
       "      <td>4</td>\n",
       "      <td>1.0</td>\n",
       "      <td>11.0</td>\n",
       "      <td></td>\n",
       "    </tr>\n",
       "    <tr>\n",
       "      <th>11789</th>\n",
       "      <td>18154378</td>\n",
       "      <td>124601372</td>\n",
       "      <td>Shared room</td>\n",
       "      <td>Santo António</td>\n",
       "      <td>4</td>\n",
       "      <td>4.5</td>\n",
       "      <td>4</td>\n",
       "      <td>1.0</td>\n",
       "      <td>11.0</td>\n",
       "      <td></td>\n",
       "    </tr>\n",
       "    <tr>\n",
       "      <th>6058</th>\n",
       "      <td>10398958</td>\n",
       "      <td>32344156</td>\n",
       "      <td>Shared room</td>\n",
       "      <td>Misericórdia</td>\n",
       "      <td>39</td>\n",
       "      <td>4.5</td>\n",
       "      <td>8</td>\n",
       "      <td>1.0</td>\n",
       "      <td>12.0</td>\n",
       "      <td></td>\n",
       "    </tr>\n",
       "  </tbody>\n",
       "</table>\n",
       "</div>"
      ],
      "text/plain": [
       "        room_id    host_id    room_type    neighborhood  reviews  \\\n",
       "9065   14933182   91501272  Shared room   Santo António        5   \n",
       "6056   10397682   32344156  Shared room    Misericórdia       15   \n",
       "8918   14719962   40574313  Shared room  Avenidas Novas        4   \n",
       "9964   16150682   58899339  Shared room  Avenidas Novas        4   \n",
       "5616    9317561   48360716  Shared room         Arroios       13   \n",
       "8908   14708916   91501272  Shared room   Santo António       18   \n",
       "9061   14932515   91501272  Shared room   Santo António        9   \n",
       "9062   14932518   91501272  Shared room   Santo António        7   \n",
       "11789  18154378  124601372  Shared room   Santo António        4   \n",
       "6058   10398958   32344156  Shared room    Misericórdia       39   \n",
       "\n",
       "       overall_satisfaction  accommodates  bedrooms  price Propietario  \n",
       "9065                    5.0             8       1.0   11.0              \n",
       "6056                    5.0             8       1.0   13.0              \n",
       "8918                    5.0             4       1.0   13.0              \n",
       "9964                    5.0             9       1.0   16.0              \n",
       "5616                    4.5             4       1.0   11.0              \n",
       "8908                    4.5             4       1.0   11.0              \n",
       "9061                    4.5             4       1.0   11.0              \n",
       "9062                    4.5             4       1.0   11.0              \n",
       "11789                   4.5             4       1.0   11.0              \n",
       "6058                    4.5             8       1.0   12.0              "
      ]
     },
     "execution_count": 15,
     "metadata": {},
     "output_type": "execute_result"
    }
   ],
   "source": [
    "df_orden2.head(10)"
   ]
  },
  {
   "cell_type": "markdown",
   "metadata": {},
   "source": [
    "## Usando MatPlot"
   ]
  },
  {
   "cell_type": "code",
   "execution_count": 16,
   "metadata": {},
   "outputs": [],
   "source": [
    "import matplotlib.pyplot as plt"
   ]
  },
  {
   "cell_type": "code",
   "execution_count": 17,
   "metadata": {},
   "outputs": [],
   "source": [
    "%matplotlib inline"
   ]
  },
  {
   "cell_type": "markdown",
   "metadata": {},
   "source": [
    "### Caso 1.\n",
    "\n",
    "Realizar un gráfico circular, de la cantidad de tipo de habitaciones `room_type`  "
   ]
  },
  {
   "cell_type": "code",
   "execution_count": 18,
   "metadata": {},
   "outputs": [
    {
     "data": {
      "text/plain": [
       "array(['Entire home/apt', 'Private room', 'Shared room'], dtype=object)"
      ]
     },
     "execution_count": 18,
     "metadata": {},
     "output_type": "execute_result"
    }
   ],
   "source": [
    "df_airbnb.room_type.unique()"
   ]
  },
  {
   "cell_type": "code",
   "execution_count": 19,
   "metadata": {},
   "outputs": [
    {
     "data": {
      "text/plain": [
       "<AxesSubplot:ylabel='room_type'>"
      ]
     },
     "execution_count": 19,
     "metadata": {},
     "output_type": "execute_result"
    },
    {
     "data": {
      "image/png": "[encoded data removed]",
      "text/plain": [
       "<Figure size 432x288 with 1 Axes>"
      ]
     },
     "metadata": {},
     "output_type": "display_data"
    }
   ],
   "source": [
    "df_airbnb.room_type.value_counts().plot.pie(\n",
    "    autopct=\"%.2f\",\n",
    "    fontsize=10)"
   ]
  },
  {
   "cell_type": "code",
   "execution_count": null,
   "metadata": {},
   "outputs": [],
   "source": []
  }
 ],
 "metadata": {
  "kernelspec": {
   "display_name": "Python 3 (ipykernel)",
   "language": "python",
   "name": "python3"
  },
  "language_info": {
   "codemirror_mode": {
    "name": "ipython",
    "version": 3
   },
   "file_extension": ".py",
   "mimetype": "text/x-python",
   "name": "python",
   "nbconvert_exporter": "python",
   "pygments_lexer": "ipython3",
   "version": "3.8.12"
  }
 },
 "nbformat": 4,
 "nbformat_minor": 4
}
